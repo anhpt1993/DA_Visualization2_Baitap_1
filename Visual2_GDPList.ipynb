{
  "nbformat": 4,
  "nbformat_minor": 0,
  "metadata": {
    "colab": {
      "name": "Visual2_GDPList.ipynb",
      "provenance": []
    },
    "kernelspec": {
      "name": "python3",
      "display_name": "Python 3"
    },
    "language_info": {
      "name": "python"
    }
  },
  "cells": [
    {
      "cell_type": "markdown",
      "source": [
        "Bộ dữ liệu GDP list.csv thống kê giá trị GDP của 125 quốc gia trên 6 châu lục. Yêu cầu hãy vẽ biểu đồ kết hợp hiển thị đồng thời:</br>\n",
        "- Biểu đồ để hiển thị giá trị cụ thể và so sánh GDP các nước Vietnam,  Indonesia, Cambodia, Thailand và Malaysia.\n",
        "- Biểu đồ để đánh giá tỉ lệ đóng góp GDP của các nước trên tổng số GDP của 5 nước Vietnam,  Indonesia, Cambodia, Thailand và Malaysia."
      ],
      "metadata": {
        "id": "jO8RZjfX03OJ"
      }
    },
    {
      "cell_type": "markdown",
      "source": [
        "# 0. Khai báo các thư viện cần thiết"
      ],
      "metadata": {
        "id": "z8mtsPyE0_8G"
      }
    },
    {
      "cell_type": "code",
      "source": [
        "import pandas as pd\n",
        "import numpy as np\n",
        "import matplotlib.pyplot as plt"
      ],
      "metadata": {
        "id": "QIj0PyY61Cz_"
      },
      "execution_count": null,
      "outputs": []
    },
    {
      "cell_type": "markdown",
      "source": [
        "# 1. Đọc dữ liệu từ file CSV"
      ],
      "metadata": {
        "id": "ssTqrOpH1LHo"
      }
    },
    {
      "cell_type": "code",
      "source": [
        "df = pd.read_csv(\"https://s3.ap-southeast-1.amazonaws.com/learn.codegym.vn/media/public/2021/12/31020936/GDPlist.csv\", encoding = \"ISO-8859-1\")\n",
        "df.head()"
      ],
      "metadata": {
        "colab": {
          "base_uri": "https://localhost:8080/",
          "height": 206
        },
        "id": "VaOcfSmc1Pk5",
        "outputId": "37afe32a-6876-4846-e6dc-3a319d055270"
      },
      "execution_count": null,
      "outputs": [
        {
          "output_type": "execute_result",
          "data": {
            "text/html": [
              "\n",
              "  <div id=\"df-b9dab133-2e2e-465c-8d1c-04cc87e4fa7f\">\n",
              "    <div class=\"colab-df-container\">\n",
              "      <div>\n",
              "<style scoped>\n",
              "    .dataframe tbody tr th:only-of-type {\n",
              "        vertical-align: middle;\n",
              "    }\n",
              "\n",
              "    .dataframe tbody tr th {\n",
              "        vertical-align: top;\n",
              "    }\n",
              "\n",
              "    .dataframe thead th {\n",
              "        text-align: right;\n",
              "    }\n",
              "</style>\n",
              "<table border=\"1\" class=\"dataframe\">\n",
              "  <thead>\n",
              "    <tr style=\"text-align: right;\">\n",
              "      <th></th>\n",
              "      <th>Country</th>\n",
              "      <th>Continent</th>\n",
              "      <th>GDP (millions of US$)</th>\n",
              "    </tr>\n",
              "  </thead>\n",
              "  <tbody>\n",
              "    <tr>\n",
              "      <th>0</th>\n",
              "      <td>Afghanistan</td>\n",
              "      <td>Asia</td>\n",
              "      <td>18181</td>\n",
              "    </tr>\n",
              "    <tr>\n",
              "      <th>1</th>\n",
              "      <td>Albania</td>\n",
              "      <td>Europe</td>\n",
              "      <td>12847</td>\n",
              "    </tr>\n",
              "    <tr>\n",
              "      <th>2</th>\n",
              "      <td>Algeria</td>\n",
              "      <td>Africa</td>\n",
              "      <td>190709</td>\n",
              "    </tr>\n",
              "    <tr>\n",
              "      <th>3</th>\n",
              "      <td>Angola</td>\n",
              "      <td>Africa</td>\n",
              "      <td>100948</td>\n",
              "    </tr>\n",
              "    <tr>\n",
              "      <th>4</th>\n",
              "      <td>Argentina</td>\n",
              "      <td>South America</td>\n",
              "      <td>447644</td>\n",
              "    </tr>\n",
              "  </tbody>\n",
              "</table>\n",
              "</div>\n",
              "      <button class=\"colab-df-convert\" onclick=\"convertToInteractive('df-b9dab133-2e2e-465c-8d1c-04cc87e4fa7f')\"\n",
              "              title=\"Convert this dataframe to an interactive table.\"\n",
              "              style=\"display:none;\">\n",
              "        \n",
              "  <svg xmlns=\"http://www.w3.org/2000/svg\" height=\"24px\"viewBox=\"0 0 24 24\"\n",
              "       width=\"24px\">\n",
              "    <path d=\"M0 0h24v24H0V0z\" fill=\"none\"/>\n",
              "    <path d=\"M18.56 5.44l.94 2.06.94-2.06 2.06-.94-2.06-.94-.94-2.06-.94 2.06-2.06.94zm-11 1L8.5 8.5l.94-2.06 2.06-.94-2.06-.94L8.5 2.5l-.94 2.06-2.06.94zm10 10l.94 2.06.94-2.06 2.06-.94-2.06-.94-.94-2.06-.94 2.06-2.06.94z\"/><path d=\"M17.41 7.96l-1.37-1.37c-.4-.4-.92-.59-1.43-.59-.52 0-1.04.2-1.43.59L10.3 9.45l-7.72 7.72c-.78.78-.78 2.05 0 2.83L4 21.41c.39.39.9.59 1.41.59.51 0 1.02-.2 1.41-.59l7.78-7.78 2.81-2.81c.8-.78.8-2.07 0-2.86zM5.41 20L4 18.59l7.72-7.72 1.47 1.35L5.41 20z\"/>\n",
              "  </svg>\n",
              "      </button>\n",
              "      \n",
              "  <style>\n",
              "    .colab-df-container {\n",
              "      display:flex;\n",
              "      flex-wrap:wrap;\n",
              "      gap: 12px;\n",
              "    }\n",
              "\n",
              "    .colab-df-convert {\n",
              "      background-color: #E8F0FE;\n",
              "      border: none;\n",
              "      border-radius: 50%;\n",
              "      cursor: pointer;\n",
              "      display: none;\n",
              "      fill: #1967D2;\n",
              "      height: 32px;\n",
              "      padding: 0 0 0 0;\n",
              "      width: 32px;\n",
              "    }\n",
              "\n",
              "    .colab-df-convert:hover {\n",
              "      background-color: #E2EBFA;\n",
              "      box-shadow: 0px 1px 2px rgba(60, 64, 67, 0.3), 0px 1px 3px 1px rgba(60, 64, 67, 0.15);\n",
              "      fill: #174EA6;\n",
              "    }\n",
              "\n",
              "    [theme=dark] .colab-df-convert {\n",
              "      background-color: #3B4455;\n",
              "      fill: #D2E3FC;\n",
              "    }\n",
              "\n",
              "    [theme=dark] .colab-df-convert:hover {\n",
              "      background-color: #434B5C;\n",
              "      box-shadow: 0px 1px 3px 1px rgba(0, 0, 0, 0.15);\n",
              "      filter: drop-shadow(0px 1px 2px rgba(0, 0, 0, 0.3));\n",
              "      fill: #FFFFFF;\n",
              "    }\n",
              "  </style>\n",
              "\n",
              "      <script>\n",
              "        const buttonEl =\n",
              "          document.querySelector('#df-b9dab133-2e2e-465c-8d1c-04cc87e4fa7f button.colab-df-convert');\n",
              "        buttonEl.style.display =\n",
              "          google.colab.kernel.accessAllowed ? 'block' : 'none';\n",
              "\n",
              "        async function convertToInteractive(key) {\n",
              "          const element = document.querySelector('#df-b9dab133-2e2e-465c-8d1c-04cc87e4fa7f');\n",
              "          const dataTable =\n",
              "            await google.colab.kernel.invokeFunction('convertToInteractive',\n",
              "                                                     [key], {});\n",
              "          if (!dataTable) return;\n",
              "\n",
              "          const docLinkHtml = 'Like what you see? Visit the ' +\n",
              "            '<a target=\"_blank\" href=https://colab.research.google.com/notebooks/data_table.ipynb>data table notebook</a>'\n",
              "            + ' to learn more about interactive tables.';\n",
              "          element.innerHTML = '';\n",
              "          dataTable['output_type'] = 'display_data';\n",
              "          await google.colab.output.renderOutput(dataTable, element);\n",
              "          const docLink = document.createElement('div');\n",
              "          docLink.innerHTML = docLinkHtml;\n",
              "          element.appendChild(docLink);\n",
              "        }\n",
              "      </script>\n",
              "    </div>\n",
              "  </div>\n",
              "  "
            ],
            "text/plain": [
              "        Country      Continent  GDP (millions of US$)\n",
              "0   Afghanistan           Asia                  18181\n",
              "1       Albania         Europe                  12847\n",
              "2       Algeria         Africa                 190709\n",
              "3        Angola         Africa                 100948\n",
              "4     Argentina  South America                 447644"
            ]
          },
          "metadata": {},
          "execution_count": 32
        }
      ]
    },
    {
      "cell_type": "code",
      "execution_count": null,
      "metadata": {
        "colab": {
          "base_uri": "https://localhost:8080/"
        },
        "id": "lShggBge0jj_",
        "outputId": "476ae6cd-a34f-4483-89be-f1103a72b7fd"
      },
      "outputs": [
        {
          "output_type": "stream",
          "name": "stdout",
          "text": [
            "<class 'pandas.core.frame.DataFrame'>\n",
            "RangeIndex: 125 entries, 0 to 124\n",
            "Data columns (total 3 columns):\n",
            " #   Column                 Non-Null Count  Dtype \n",
            "---  ------                 --------------  ----- \n",
            " 0   Country                125 non-null    object\n",
            " 1   Continent              125 non-null    object\n",
            " 2   GDP (millions of US$)  125 non-null    int64 \n",
            "dtypes: int64(1), object(2)\n",
            "memory usage: 3.1+ KB\n"
          ]
        }
      ],
      "source": [
        "df.info()"
      ]
    },
    {
      "cell_type": "markdown",
      "source": [
        "# 2. Vẽ biểu đồ"
      ],
      "metadata": {
        "id": "Vj3c8niH1vqQ"
      }
    },
    {
      "cell_type": "code",
      "source": [
        "df.Country.unique()"
      ],
      "metadata": {
        "colab": {
          "base_uri": "https://localhost:8080/"
        },
        "id": "x2pcN49C3PwK",
        "outputId": "42ed11e5-a2e0-4d66-973c-446abc9cff7c"
      },
      "execution_count": null,
      "outputs": [
        {
          "output_type": "execute_result",
          "data": {
            "text/plain": [
              "array(['\\xa0Afghanistan', '\\xa0Albania', '\\xa0Algeria', '\\xa0Angola',\n",
              "       '\\xa0Argentina', '\\xa0Australia', '\\xa0Austria', '\\xa0Azerbaijan',\n",
              "       '\\xa0Bahrain', '\\xa0Bangladesh', '\\xa0Belarus', '\\xa0Belgium',\n",
              "       '\\xa0Bolivia', '\\xa0Bosnia and Herzegovina', '\\xa0Botswana',\n",
              "       '\\xa0Brazil', '\\xa0Brunei', '\\xa0Bulgaria', '\\xa0Burma',\n",
              "       '\\xa0Cambodia', '\\xa0Cameroon', '\\xa0Canada', '\\xa0Chile',\n",
              "       '\\xa0China', '\\xa0Colombia',\n",
              "       '\\xa0Congo, Democratic Republic of the',\n",
              "       '\\xa0Congo, Republic of the', '\\xa0Costa Rica',\n",
              "       \"\\xa0Côte d'Ivoire\", '\\xa0Croatia', '\\xa0Cyprus',\n",
              "       '\\xa0Czech Republic', '\\xa0Denmark', '\\xa0Dominican Republic',\n",
              "       '\\xa0Ecuador', '\\xa0Egypt', '\\xa0El Salvador',\n",
              "       '\\xa0Equatorial Guinea', '\\xa0Estonia', '\\xa0Ethiopia',\n",
              "       '\\xa0Finland', '\\xa0France', '\\xa0Gabon', '\\xa0Georgia',\n",
              "       '\\xa0Germany', '\\xa0Ghana', '\\xa0Greece', '\\xa0Guatemala',\n",
              "       '\\xa0Honduras', '\\xa0Hong Kong', '\\xa0Hungary', '\\xa0Iceland',\n",
              "       '\\xa0India', '\\xa0Indonesia', '\\xa0Iran', '\\xa0Iraq',\n",
              "       '\\xa0Ireland', '\\xa0Israel', '\\xa0Italy', '\\xa0Jamaica',\n",
              "       '\\xa0Japan', '\\xa0Jordan', '\\xa0Kazakhstan', '\\xa0Kenya',\n",
              "       '\\xa0Kuwait', '\\xa0Latvia', '\\xa0Lebanon', '\\xa0Libya',\n",
              "       '\\xa0Lithuania', '\\xa0Luxembourg', '\\xa0Malaysia', '\\xa0Mali',\n",
              "       '\\xa0Mauritius', '\\xa0Mexico', '\\xa0Morocco', '\\xa0Mozambique',\n",
              "       '\\xa0Namibia', '\\xa0Nepal', '\\xa0Netherlands', '\\xa0New Zealand',\n",
              "       '\\xa0Nigeria', '\\xa0Norway', '\\xa0Oman', '\\xa0Pakistan',\n",
              "       '\\xa0Panama', '\\xa0Papua New Guinea', '\\xa0Paraguay', '\\xa0Peru',\n",
              "       '\\xa0Philippines', '\\xa0Poland', '\\xa0Portugal', '\\xa0Qatar',\n",
              "       '\\xa0Romania', '\\xa0Russia', '\\xa0Saudi Arabia', '\\xa0Senegal',\n",
              "       '\\xa0Serbia', '\\xa0Singapore', '\\xa0Slovakia', '\\xa0Slovenia',\n",
              "       '\\xa0South Africa', '\\xa0South Korea', '\\xa0Spain',\n",
              "       '\\xa0Sri Lanka', '\\xa0Sudan + \\xa0South Sudan', '\\xa0Sweden',\n",
              "       '\\xa0Switzerland', '\\xa0Taiwan', '\\xa0Tanzania', '\\xa0Thailand',\n",
              "       '\\xa0Trinidad and Tobago', '\\xa0Tunisia', '\\xa0Turkey',\n",
              "       '\\xa0Turkmenistan', '\\xa0Uganda', '\\xa0Ukraine',\n",
              "       '\\xa0United Arab Emirates', '\\xa0United Kingdom',\n",
              "       '\\xa0United States', '\\xa0Uruguay', '\\xa0Uzbekistan',\n",
              "       '\\xa0Venezuela', '\\xa0Vietnam', '\\xa0Yemen', '\\xa0Zambia'],\n",
              "      dtype=object)"
            ]
          },
          "metadata": {},
          "execution_count": 34
        }
      ]
    },
    {
      "cell_type": "code",
      "source": [
        "# Lấy ra Dataframe chỉ chứa GDP các nước Vietnam, Indonesia, Cambodia, Thailand và Malaysia\n",
        "conditions = (df.Country == \"\\xa0Vietnam\") | (df.Country == \"\\xa0Indonesia\") | (df.Country == \"\\xa0Cambodia\") | (df.Country == \"\\xa0Thailand\") | (df.Country == \"\\xa0Malaysia\")\n",
        "df1 = df[conditions]\n",
        "df1.reset_index(drop = True, inplace = True)\n",
        "df1"
      ],
      "metadata": {
        "colab": {
          "base_uri": "https://localhost:8080/",
          "height": 206
        },
        "id": "38VO1_Pa1pWy",
        "outputId": "c3857778-7d6f-4bce-bc56-9f93df03a46c"
      },
      "execution_count": null,
      "outputs": [
        {
          "output_type": "execute_result",
          "data": {
            "text/html": [
              "\n",
              "  <div id=\"df-cb62d273-cf8d-409a-8f76-759ce46681a9\">\n",
              "    <div class=\"colab-df-container\">\n",
              "      <div>\n",
              "<style scoped>\n",
              "    .dataframe tbody tr th:only-of-type {\n",
              "        vertical-align: middle;\n",
              "    }\n",
              "\n",
              "    .dataframe tbody tr th {\n",
              "        vertical-align: top;\n",
              "    }\n",
              "\n",
              "    .dataframe thead th {\n",
              "        text-align: right;\n",
              "    }\n",
              "</style>\n",
              "<table border=\"1\" class=\"dataframe\">\n",
              "  <thead>\n",
              "    <tr style=\"text-align: right;\">\n",
              "      <th></th>\n",
              "      <th>Country</th>\n",
              "      <th>Continent</th>\n",
              "      <th>GDP (millions of US$)</th>\n",
              "    </tr>\n",
              "  </thead>\n",
              "  <tbody>\n",
              "    <tr>\n",
              "      <th>0</th>\n",
              "      <td>Cambodia</td>\n",
              "      <td>Asia</td>\n",
              "      <td>12861</td>\n",
              "    </tr>\n",
              "    <tr>\n",
              "      <th>1</th>\n",
              "      <td>Indonesia</td>\n",
              "      <td>Asia</td>\n",
              "      <td>845680</td>\n",
              "    </tr>\n",
              "    <tr>\n",
              "      <th>2</th>\n",
              "      <td>Malaysia</td>\n",
              "      <td>Asia</td>\n",
              "      <td>278680</td>\n",
              "    </tr>\n",
              "    <tr>\n",
              "      <th>3</th>\n",
              "      <td>Thailand</td>\n",
              "      <td>Asia</td>\n",
              "      <td>345649</td>\n",
              "    </tr>\n",
              "    <tr>\n",
              "      <th>4</th>\n",
              "      <td>Vietnam</td>\n",
              "      <td>Asia</td>\n",
              "      <td>122722</td>\n",
              "    </tr>\n",
              "  </tbody>\n",
              "</table>\n",
              "</div>\n",
              "      <button class=\"colab-df-convert\" onclick=\"convertToInteractive('df-cb62d273-cf8d-409a-8f76-759ce46681a9')\"\n",
              "              title=\"Convert this dataframe to an interactive table.\"\n",
              "              style=\"display:none;\">\n",
              "        \n",
              "  <svg xmlns=\"http://www.w3.org/2000/svg\" height=\"24px\"viewBox=\"0 0 24 24\"\n",
              "       width=\"24px\">\n",
              "    <path d=\"M0 0h24v24H0V0z\" fill=\"none\"/>\n",
              "    <path d=\"M18.56 5.44l.94 2.06.94-2.06 2.06-.94-2.06-.94-.94-2.06-.94 2.06-2.06.94zm-11 1L8.5 8.5l.94-2.06 2.06-.94-2.06-.94L8.5 2.5l-.94 2.06-2.06.94zm10 10l.94 2.06.94-2.06 2.06-.94-2.06-.94-.94-2.06-.94 2.06-2.06.94z\"/><path d=\"M17.41 7.96l-1.37-1.37c-.4-.4-.92-.59-1.43-.59-.52 0-1.04.2-1.43.59L10.3 9.45l-7.72 7.72c-.78.78-.78 2.05 0 2.83L4 21.41c.39.39.9.59 1.41.59.51 0 1.02-.2 1.41-.59l7.78-7.78 2.81-2.81c.8-.78.8-2.07 0-2.86zM5.41 20L4 18.59l7.72-7.72 1.47 1.35L5.41 20z\"/>\n",
              "  </svg>\n",
              "      </button>\n",
              "      \n",
              "  <style>\n",
              "    .colab-df-container {\n",
              "      display:flex;\n",
              "      flex-wrap:wrap;\n",
              "      gap: 12px;\n",
              "    }\n",
              "\n",
              "    .colab-df-convert {\n",
              "      background-color: #E8F0FE;\n",
              "      border: none;\n",
              "      border-radius: 50%;\n",
              "      cursor: pointer;\n",
              "      display: none;\n",
              "      fill: #1967D2;\n",
              "      height: 32px;\n",
              "      padding: 0 0 0 0;\n",
              "      width: 32px;\n",
              "    }\n",
              "\n",
              "    .colab-df-convert:hover {\n",
              "      background-color: #E2EBFA;\n",
              "      box-shadow: 0px 1px 2px rgba(60, 64, 67, 0.3), 0px 1px 3px 1px rgba(60, 64, 67, 0.15);\n",
              "      fill: #174EA6;\n",
              "    }\n",
              "\n",
              "    [theme=dark] .colab-df-convert {\n",
              "      background-color: #3B4455;\n",
              "      fill: #D2E3FC;\n",
              "    }\n",
              "\n",
              "    [theme=dark] .colab-df-convert:hover {\n",
              "      background-color: #434B5C;\n",
              "      box-shadow: 0px 1px 3px 1px rgba(0, 0, 0, 0.15);\n",
              "      filter: drop-shadow(0px 1px 2px rgba(0, 0, 0, 0.3));\n",
              "      fill: #FFFFFF;\n",
              "    }\n",
              "  </style>\n",
              "\n",
              "      <script>\n",
              "        const buttonEl =\n",
              "          document.querySelector('#df-cb62d273-cf8d-409a-8f76-759ce46681a9 button.colab-df-convert');\n",
              "        buttonEl.style.display =\n",
              "          google.colab.kernel.accessAllowed ? 'block' : 'none';\n",
              "\n",
              "        async function convertToInteractive(key) {\n",
              "          const element = document.querySelector('#df-cb62d273-cf8d-409a-8f76-759ce46681a9');\n",
              "          const dataTable =\n",
              "            await google.colab.kernel.invokeFunction('convertToInteractive',\n",
              "                                                     [key], {});\n",
              "          if (!dataTable) return;\n",
              "\n",
              "          const docLinkHtml = 'Like what you see? Visit the ' +\n",
              "            '<a target=\"_blank\" href=https://colab.research.google.com/notebooks/data_table.ipynb>data table notebook</a>'\n",
              "            + ' to learn more about interactive tables.';\n",
              "          element.innerHTML = '';\n",
              "          dataTable['output_type'] = 'display_data';\n",
              "          await google.colab.output.renderOutput(dataTable, element);\n",
              "          const docLink = document.createElement('div');\n",
              "          docLink.innerHTML = docLinkHtml;\n",
              "          element.appendChild(docLink);\n",
              "        }\n",
              "      </script>\n",
              "    </div>\n",
              "  </div>\n",
              "  "
            ],
            "text/plain": [
              "      Country Continent  GDP (millions of US$)\n",
              "0    Cambodia      Asia                  12861\n",
              "1   Indonesia      Asia                 845680\n",
              "2    Malaysia      Asia                 278680\n",
              "3    Thailand      Asia                 345649\n",
              "4     Vietnam      Asia                 122722"
            ]
          },
          "metadata": {},
          "execution_count": 35
        }
      ]
    },
    {
      "cell_type": "code",
      "source": [
        "# Chia đồ thị làm 2 phần nằm ngang\n",
        "fig, ax = plt.subplots(1, 2)\n",
        "fig.set_figheight(9)\n",
        "fig.set_figwidth(18)\n",
        "\n",
        "# Vẽ đồ thị so sánh GDP các nước\n",
        "ax[0].bar(df1.Country, df1[\"GDP (millions of US$)\"], width = 0.5, label = \"GDP (triệu USD)\")\n",
        "ax[0].set_title(\"Biểu đồ so sánh GDP các nước Đông Nam Á\", fontsize = 20)\n",
        "ax[0].set_xlabel(\"Country\", fontsize = 14)\n",
        "ax[0].set_ylabel(\"GDP\", fontsize = 14)\n",
        "ax[0].legend()\n",
        "\n",
        "# Vẽ đồ thị thể hiện tỷ trọng GDP các nước\n",
        "ax[1].pie(df1[\"GDP (millions of US$)\"], labels = df1.Country, autopct = '%1.1f%%')\n",
        "ax[1].legend()\n",
        "\n",
        "plt.show()"
      ],
      "metadata": {
        "colab": {
          "base_uri": "https://localhost:8080/",
          "height": 579
        },
        "id": "ogQ39pXU4eMA",
        "outputId": "bc24c4b0-449c-4185-9e1d-693df21d7486"
      },
      "execution_count": null,
      "outputs": [
        {
          "output_type": "display_data",
          "data": {
            "image/png": "[encoded data removed]",
            "text/plain": [
              "<Figure size 1296x648 with 2 Axes>"
            ]
          },
          "metadata": {
            "needs_background": "light"
          }
        }
      ]
    },
    {
      "cell_type": "markdown",
      "source": [
        ""
      ],
      "metadata": {
        "id": "oR50ktqj01af"
      }
    }
  ]
}